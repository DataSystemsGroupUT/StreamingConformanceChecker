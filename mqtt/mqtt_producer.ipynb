{
 "cells": [
  {
   "cell_type": "code",
   "execution_count": null,
   "metadata": {},
   "outputs": [],
   "source": [
    "from paho.mqtt import client as mqtt_client\n",
    "import logging, time\n",
    "import json\n",
    "import pm4py\n",
    "from tqdm import tqdm\n",
    "import pandas as pd\n",
    "import random\n",
    "import os"
   ]
  },
  {
   "cell_type": "code",
   "execution_count": null,
   "metadata": {},
   "outputs": [],
   "source": [
    "for k,v in prob_swaps.items():\n",
    "    print(k)\n",
    "    print(len(v))\n",
    "    print(\"--\")"
   ]
  },
  {
   "cell_type": "code",
   "execution_count": null,
   "metadata": {},
   "outputs": [],
   "source": [
    "broker = 'localhost'\n",
    "port = 1883\n",
    "topic = \"cominds\"\n",
    "client_id = f'mqtt-publisher'\n",
    "\n",
    "def connect_mqtt():\n",
    "    def on_connect(client, userdata, flags, rc):\n",
    "        if rc == 0:\n",
    "            print(\"Connected to MQTT Broker!\")\n",
    "        else:\n",
    "            print(\"Failed to connect, return code %d\\n\", rc)\n",
    "    # Set Connecting Client ID\n",
    "    client = mqtt_client.Client(client_id)\n",
    "    # client.username_pw_set(username, password)\n",
    "    client.on_connect = on_connect\n",
    "    client.connect(broker, port)\n",
    "    return client\n",
    "\n",
    "client = connect_mqtt()\n",
    "\n",
    "FIRST_RECONNECT_DELAY = 1\n",
    "RECONNECT_RATE = 2\n",
    "MAX_RECONNECT_COUNT = 12\n",
    "MAX_RECONNECT_DELAY = 60\n",
    "\n",
    "def on_disconnect(client, userdata, rc):\n",
    "    logging.info(\"Disconnected with result code: %s\", rc)\n",
    "    reconnect_count, reconnect_delay = 0, FIRST_RECONNECT_DELAY\n",
    "    while reconnect_count < MAX_RECONNECT_COUNT:\n",
    "        logging.info(\"Reconnecting in %d seconds...\", reconnect_delay)\n",
    "        time.sleep(reconnect_delay)\n",
    "\n",
    "        try:\n",
    "            client.reconnect()\n",
    "            logging.info(\"Reconnected successfully!\")\n",
    "            return\n",
    "        except Exception as err:\n",
    "            logging.error(\"%s. Reconnect failed. Retrying...\", err)\n",
    "\n",
    "        reconnect_delay *= RECONNECT_RATE\n",
    "        reconnect_delay = min(reconnect_delay, MAX_RECONNECT_DELAY)\n",
    "        reconnect_count += 1\n",
    "    logging.info(\"Reconnect failed after %s attempts. Exiting...\", reconnect_count)\n",
    "\n",
    "client.on_disconnect = on_disconnect\n"
   ]
  },
  {
   "cell_type": "code",
   "execution_count": null,
   "metadata": {},
   "outputs": [],
   "source": [
    "prob_maxdist = {\"01\":1,\n",
    "                \"05\":5,\n",
    "                \"10\":7,\n",
    "                \"20\":10,\n",
    "                \"50\":20,\n",
    "                \"99\":99}\n"
   ]
  },
  {
   "cell_type": "code",
   "execution_count": null,
   "metadata": {},
   "outputs": [],
   "source": [
    "path = \"logs\"\n",
    "# dataset = \"bpi2012\"\n",
    "# dataset = \"bpi2017\"\n",
    "dataset = \"bpi2020_travelpermits\"\n",
    "log = pm4py.read_xes(os.path.join(path,dataset,f\"{dataset}_100traces.xes.gz\"))\n",
    "log = log[[\"case:concept:name\", \"concept:name\", \"time:timestamp\"]]\n",
    "log[\"time:timestamp\"] = log[\"time:timestamp\"].dt.strftime(\"%Y-%m-%dT%H:%M:%S.%f%z\")"
   ]
  },
  {
   "cell_type": "code",
   "execution_count": null,
   "metadata": {},
   "outputs": [],
   "source": [
    "prob_swaps = {}\n",
    "for pr,max_dist in prob_maxdist.items():\n",
    "    prob = int(pr)/100\n",
    "    index_swaps = {}\n",
    "    for l in pd.unique(log[\"case:concept:name\"]):\n",
    "        swapped_indexes = set()\n",
    "        idx = log[log[\"case:concept:name\"]==l].index\n",
    "        for i in idx:\n",
    "            if i in swapped_indexes:\n",
    "                continue\n",
    "            if random.random() < prob:\n",
    "                looking_for_spot = True\n",
    "                attempt_counter = 0\n",
    "                while True:\n",
    "                    if random.random()<0.5:\n",
    "                        new_spot = -random.randint(1,min(max_dist,len(idx)))\n",
    "                    else:\n",
    "                        new_spot = random.randint(1,min(max_dist,len(idx)))\n",
    "                    if i+new_spot in idx and i+new_spot not in swapped_indexes:\n",
    "                        index_swaps[i] = i+new_spot\n",
    "                        swapped_indexes.add(i)\n",
    "                        swapped_indexes.add(i+new_spot)\n",
    "                        break\n",
    "                    attempt_counter += 1\n",
    "                    if attempt_counter > max_dist*5:\n",
    "                        break\n",
    "    prob_swaps[pr] = index_swaps"
   ]
  },
  {
   "cell_type": "code",
   "execution_count": null,
   "metadata": {},
   "outputs": [],
   "source": [
    "def swap_rows(df, swap_dict):\n",
    "    for k,v in swap_dict.items():\n",
    "        tmp = df.iloc[k].copy()\n",
    "        df.iloc[k] = df.iloc[v]\n",
    "        df.iloc[v] = tmp\n",
    "    return df\n",
    "\n",
    "ooo_logs = {}\n",
    "ooo_logs[\"00\"] = log\n",
    "for k,v in prob_swaps.items():\n",
    "    log_swapped = swap_rows(log.copy(), v)\n",
    "    ooo_logs[k] = log_swapped\n",
    "    log_swapped.to_csv(os.path.join(path,dataset,k+\".csv\"))\n",
    "\n",
    "log.to_csv(os.path.join(path,dataset,dataset+\".csv\"))"
   ]
  },
  {
   "cell_type": "code",
   "execution_count": null,
   "metadata": {},
   "outputs": [],
   "source": [
    "output_path = r\"..\\output\""
   ]
  },
  {
   "cell_type": "code",
   "execution_count": null,
   "metadata": {},
   "outputs": [],
   "source": [
    "for k,v in ooo_logs.items():\n",
    "    counter = 0\n",
    "    for r in tqdm(v.itertuples()):\n",
    "        trace = r[1]\n",
    "        activity = r[2]\n",
    "        timestamp = str(r[3])\n",
    "        payload = {\"event\":{\"concept:name\":activity,\"time:timestamp\":timestamp},\"trace\":{\"concept:name\":trace}}\n",
    "        client.publish(f\"{topic}/swap_{k}_{trace}/{activity}\", json.dumps(payload),qos=0)\n",
    "        counter += 1\n",
    "        if counter > 50:\n",
    "            time.sleep(100/1000)\n",
    "            counter = 0\n"
   ]
  }
 ],
 "metadata": {
  "kernelspec": {
   "display_name": "venv",
   "language": "python",
   "name": "python3"
  },
  "language_info": {
   "codemirror_mode": {
    "name": "ipython",
    "version": 3
   },
   "file_extension": ".py",
   "mimetype": "text/x-python",
   "name": "python",
   "nbconvert_exporter": "python",
   "pygments_lexer": "ipython3",
   "version": "3.9.13"
  },
  "orig_nbformat": 4
 },
 "nbformat": 4,
 "nbformat_minor": 2
}
